{
 "cells": [
  {
   "cell_type": "code",
   "execution_count": 57,
   "id": "cb14b659",
   "metadata": {},
   "outputs": [],
   "source": [
    "import pandas as pd\n",
    "import numpy as np\n",
    "import matplotlib.pyplot as plt\n",
    "from datetime import datetime\n",
    "import seaborn as sns   \n",
    "import statsmodels.api as sm\n",
    "from dtreeviz.trees import *\n",
    "from sklearn.cluster import KMeans\n",
    "from sklearn.mixture import GaussianMixture\n",
    "from sklearn.cluster import SpectralClustering\n",
    "from scipy.stats import f_oneway \n",
    "from sklearn.linear_model import LinearRegression\n",
    "from sklearn.preprocessing import StandardScaler\n",
    "from sklearn import tree\n",
    "from sklearn.tree import DecisionTreeClassifier\n",
    "from IPython.display import SVG\n",
    "from sklearn.ensemble import RandomForestClassifier\n",
    "from sklearn.svm import SVC\n",
    "from sklearn.metrics import confusion_matrix, classification_report\n",
    "from sklearn.preprocessing import StandardScaler, LabelEncoder\n",
    "from sklearn.model_selection import train_test_split, GridSearchCV, cross_val_score\n",
    "\n",
    "%matplotlib inline"
   ]
  },
  {
   "cell_type": "code",
   "execution_count": 2,
   "id": "fb6fe8f1",
   "metadata": {},
   "outputs": [
    {
     "name": "stdout",
     "output_type": "stream",
     "text": [
      "<class 'datetime.datetime'>\n",
      "Default Format  2015-07-04 00:00:00\n",
      "Day  4\n",
      "Month  7\n",
      "year  2015\n",
      "Format Date/Month/Year  04/07/2015\n",
      "Format Month/Date/Year  07/04/2015\n",
      "Format Month(Texual)/Date/Year  July/04/2015\n",
      "Format Year/Month/Date  2015/07/04\n",
      "<class 'datetime.datetime'>\n",
      "Default Format  2022-12-27 19:05:08.706719\n",
      "Day  27\n",
      "Month  12\n",
      "year  2022\n",
      "Format Date/Month/Year  27/12/2022\n",
      "Format Month/Date/Year  12/27/2022\n",
      "Format Month(Texual)/Date/Year  December/27/2022\n",
      "Format Year/Month/Date  2022/12/27\n",
      "<class 'pandas._libs.tslibs.timestamps.Timestamp'>\n",
      "Default Format  2022-12-27 19:05:08.707796\n",
      "Day  27\n",
      "Month  12\n",
      "year  2022\n",
      "Format Date/Month/Year  27/12/2022\n",
      "Format Month/Date/Year  12/27/2022\n",
      "Format Month(Texual)/Date/Year  December/27/2022\n",
      "Format Year/Month/Date  2022/12/27\n",
      "<class 'pandas._libs.tslibs.timestamps.Timestamp'>\n",
      "2022-12-27 19:05:08.707796\n"
     ]
    }
   ],
   "source": [
    "def date_attributes (my_date):\n",
    "  print(type(my_date))\n",
    "  print('Default Format ',my_date)\n",
    "  print('Day ',my_date.day)\n",
    "  print('Month ',my_date.month)\n",
    "  print('year ',my_date.year)\n",
    "  print('Format Date/Month/Year ',my_date.strftime(\"%d/%m/%Y\"))\n",
    "  print('Format Month/Date/Year ',my_date.strftime(\"%m/%d/%Y\"))\n",
    "  print('Format Month(Texual)/Date/Year ',my_date.strftime(\"%B/%d/%Y\"))\n",
    "  print('Format Year/Month/Date ',my_date.strftime(\"%Y/%m/%d\"))\n",
    "  return\n",
    "my_date = datetime(year=2015, month=7, day=4)\n",
    "date_attributes(my_date)\n",
    "date_attributes(datetime.now())\n",
    "sys_date_time=pd.to_datetime(datetime.now())\n",
    "date_attributes(sys_date_time)\n",
    "print (type(sys_date_time))\n",
    "print (sys_date_time)"
   ]
  },
  {
   "cell_type": "code",
   "execution_count": 3,
   "id": "33c7c68f",
   "metadata": {},
   "outputs": [],
   "source": [
    "features = pd.read_csv('features_dataset.csv')\n",
    "sales = pd.read_csv('sales_dataset.csv')\n",
    "stores = pd.read_csv('stores_dataset.csv')"
   ]
  },
  {
   "cell_type": "code",
   "execution_count": 4,
   "id": "fd01c5c5",
   "metadata": {
    "scrolled": false
   },
   "outputs": [
    {
     "data": {
      "text/html": [
       "<div>\n",
       "<style scoped>\n",
       "    .dataframe tbody tr th:only-of-type {\n",
       "        vertical-align: middle;\n",
       "    }\n",
       "\n",
       "    .dataframe tbody tr th {\n",
       "        vertical-align: top;\n",
       "    }\n",
       "\n",
       "    .dataframe thead th {\n",
       "        text-align: right;\n",
       "    }\n",
       "</style>\n",
       "<table border=\"1\" class=\"dataframe\">\n",
       "  <thead>\n",
       "    <tr style=\"text-align: right;\">\n",
       "      <th></th>\n",
       "      <th>Store</th>\n",
       "      <th>Date</th>\n",
       "      <th>Temperature</th>\n",
       "      <th>Fuel_Price</th>\n",
       "      <th>MarkDown1</th>\n",
       "      <th>MarkDown2</th>\n",
       "      <th>MarkDown3</th>\n",
       "      <th>MarkDown4</th>\n",
       "      <th>MarkDown5</th>\n",
       "      <th>CPI</th>\n",
       "      <th>Unemployment</th>\n",
       "      <th>IsHoliday</th>\n",
       "    </tr>\n",
       "  </thead>\n",
       "  <tbody>\n",
       "    <tr>\n",
       "      <th>0</th>\n",
       "      <td>1</td>\n",
       "      <td>05/02/2010</td>\n",
       "      <td>42.31</td>\n",
       "      <td>2.572</td>\n",
       "      <td>NaN</td>\n",
       "      <td>NaN</td>\n",
       "      <td>NaN</td>\n",
       "      <td>NaN</td>\n",
       "      <td>NaN</td>\n",
       "      <td>211.096358</td>\n",
       "      <td>8.106</td>\n",
       "      <td>False</td>\n",
       "    </tr>\n",
       "    <tr>\n",
       "      <th>1</th>\n",
       "      <td>1</td>\n",
       "      <td>12/02/2010</td>\n",
       "      <td>38.51</td>\n",
       "      <td>2.548</td>\n",
       "      <td>NaN</td>\n",
       "      <td>NaN</td>\n",
       "      <td>NaN</td>\n",
       "      <td>NaN</td>\n",
       "      <td>NaN</td>\n",
       "      <td>211.242170</td>\n",
       "      <td>8.106</td>\n",
       "      <td>True</td>\n",
       "    </tr>\n",
       "    <tr>\n",
       "      <th>2</th>\n",
       "      <td>1</td>\n",
       "      <td>19/02/2010</td>\n",
       "      <td>39.93</td>\n",
       "      <td>2.514</td>\n",
       "      <td>NaN</td>\n",
       "      <td>NaN</td>\n",
       "      <td>NaN</td>\n",
       "      <td>NaN</td>\n",
       "      <td>NaN</td>\n",
       "      <td>211.289143</td>\n",
       "      <td>8.106</td>\n",
       "      <td>False</td>\n",
       "    </tr>\n",
       "    <tr>\n",
       "      <th>3</th>\n",
       "      <td>1</td>\n",
       "      <td>26/02/2010</td>\n",
       "      <td>46.63</td>\n",
       "      <td>2.561</td>\n",
       "      <td>NaN</td>\n",
       "      <td>NaN</td>\n",
       "      <td>NaN</td>\n",
       "      <td>NaN</td>\n",
       "      <td>NaN</td>\n",
       "      <td>211.319643</td>\n",
       "      <td>8.106</td>\n",
       "      <td>False</td>\n",
       "    </tr>\n",
       "    <tr>\n",
       "      <th>4</th>\n",
       "      <td>1</td>\n",
       "      <td>05/03/2010</td>\n",
       "      <td>46.50</td>\n",
       "      <td>2.625</td>\n",
       "      <td>NaN</td>\n",
       "      <td>NaN</td>\n",
       "      <td>NaN</td>\n",
       "      <td>NaN</td>\n",
       "      <td>NaN</td>\n",
       "      <td>211.350143</td>\n",
       "      <td>8.106</td>\n",
       "      <td>False</td>\n",
       "    </tr>\n",
       "    <tr>\n",
       "      <th>...</th>\n",
       "      <td>...</td>\n",
       "      <td>...</td>\n",
       "      <td>...</td>\n",
       "      <td>...</td>\n",
       "      <td>...</td>\n",
       "      <td>...</td>\n",
       "      <td>...</td>\n",
       "      <td>...</td>\n",
       "      <td>...</td>\n",
       "      <td>...</td>\n",
       "      <td>...</td>\n",
       "      <td>...</td>\n",
       "    </tr>\n",
       "    <tr>\n",
       "      <th>8185</th>\n",
       "      <td>45</td>\n",
       "      <td>28/06/2013</td>\n",
       "      <td>76.05</td>\n",
       "      <td>3.639</td>\n",
       "      <td>4842.29</td>\n",
       "      <td>975.03</td>\n",
       "      <td>3.00</td>\n",
       "      <td>2449.97</td>\n",
       "      <td>3169.69</td>\n",
       "      <td>NaN</td>\n",
       "      <td>NaN</td>\n",
       "      <td>False</td>\n",
       "    </tr>\n",
       "    <tr>\n",
       "      <th>8186</th>\n",
       "      <td>45</td>\n",
       "      <td>05/07/2013</td>\n",
       "      <td>77.50</td>\n",
       "      <td>3.614</td>\n",
       "      <td>9090.48</td>\n",
       "      <td>2268.58</td>\n",
       "      <td>582.74</td>\n",
       "      <td>5797.47</td>\n",
       "      <td>1514.93</td>\n",
       "      <td>NaN</td>\n",
       "      <td>NaN</td>\n",
       "      <td>False</td>\n",
       "    </tr>\n",
       "    <tr>\n",
       "      <th>8187</th>\n",
       "      <td>45</td>\n",
       "      <td>12/07/2013</td>\n",
       "      <td>79.37</td>\n",
       "      <td>3.614</td>\n",
       "      <td>3789.94</td>\n",
       "      <td>1827.31</td>\n",
       "      <td>85.72</td>\n",
       "      <td>744.84</td>\n",
       "      <td>2150.36</td>\n",
       "      <td>NaN</td>\n",
       "      <td>NaN</td>\n",
       "      <td>False</td>\n",
       "    </tr>\n",
       "    <tr>\n",
       "      <th>8188</th>\n",
       "      <td>45</td>\n",
       "      <td>19/07/2013</td>\n",
       "      <td>82.84</td>\n",
       "      <td>3.737</td>\n",
       "      <td>2961.49</td>\n",
       "      <td>1047.07</td>\n",
       "      <td>204.19</td>\n",
       "      <td>363.00</td>\n",
       "      <td>1059.46</td>\n",
       "      <td>NaN</td>\n",
       "      <td>NaN</td>\n",
       "      <td>False</td>\n",
       "    </tr>\n",
       "    <tr>\n",
       "      <th>8189</th>\n",
       "      <td>45</td>\n",
       "      <td>26/07/2013</td>\n",
       "      <td>76.06</td>\n",
       "      <td>3.804</td>\n",
       "      <td>212.02</td>\n",
       "      <td>851.73</td>\n",
       "      <td>2.06</td>\n",
       "      <td>10.88</td>\n",
       "      <td>1864.57</td>\n",
       "      <td>NaN</td>\n",
       "      <td>NaN</td>\n",
       "      <td>False</td>\n",
       "    </tr>\n",
       "  </tbody>\n",
       "</table>\n",
       "<p>8190 rows × 12 columns</p>\n",
       "</div>"
      ],
      "text/plain": [
       "      Store        Date  Temperature  Fuel_Price  MarkDown1  MarkDown2  \\\n",
       "0         1  05/02/2010        42.31       2.572        NaN        NaN   \n",
       "1         1  12/02/2010        38.51       2.548        NaN        NaN   \n",
       "2         1  19/02/2010        39.93       2.514        NaN        NaN   \n",
       "3         1  26/02/2010        46.63       2.561        NaN        NaN   \n",
       "4         1  05/03/2010        46.50       2.625        NaN        NaN   \n",
       "...     ...         ...          ...         ...        ...        ...   \n",
       "8185     45  28/06/2013        76.05       3.639    4842.29     975.03   \n",
       "8186     45  05/07/2013        77.50       3.614    9090.48    2268.58   \n",
       "8187     45  12/07/2013        79.37       3.614    3789.94    1827.31   \n",
       "8188     45  19/07/2013        82.84       3.737    2961.49    1047.07   \n",
       "8189     45  26/07/2013        76.06       3.804     212.02     851.73   \n",
       "\n",
       "      MarkDown3  MarkDown4  MarkDown5         CPI  Unemployment  IsHoliday  \n",
       "0           NaN        NaN        NaN  211.096358         8.106      False  \n",
       "1           NaN        NaN        NaN  211.242170         8.106       True  \n",
       "2           NaN        NaN        NaN  211.289143         8.106      False  \n",
       "3           NaN        NaN        NaN  211.319643         8.106      False  \n",
       "4           NaN        NaN        NaN  211.350143         8.106      False  \n",
       "...         ...        ...        ...         ...           ...        ...  \n",
       "8185       3.00    2449.97    3169.69         NaN           NaN      False  \n",
       "8186     582.74    5797.47    1514.93         NaN           NaN      False  \n",
       "8187      85.72     744.84    2150.36         NaN           NaN      False  \n",
       "8188     204.19     363.00    1059.46         NaN           NaN      False  \n",
       "8189       2.06      10.88    1864.57         NaN           NaN      False  \n",
       "\n",
       "[8190 rows x 12 columns]"
      ]
     },
     "execution_count": 4,
     "metadata": {},
     "output_type": "execute_result"
    }
   ],
   "source": [
    "features"
   ]
  },
  {
   "cell_type": "code",
   "execution_count": 5,
   "id": "5e0a371f",
   "metadata": {},
   "outputs": [
    {
     "data": {
      "text/plain": [
       "Store             int64\n",
       "Date             object\n",
       "Temperature     float64\n",
       "Fuel_Price      float64\n",
       "MarkDown1       float64\n",
       "MarkDown2       float64\n",
       "MarkDown3       float64\n",
       "MarkDown4       float64\n",
       "MarkDown5       float64\n",
       "CPI             float64\n",
       "Unemployment    float64\n",
       "IsHoliday          bool\n",
       "dtype: object"
      ]
     },
     "execution_count": 5,
     "metadata": {},
     "output_type": "execute_result"
    }
   ],
   "source": [
    "features.dtypes"
   ]
  },
  {
   "cell_type": "code",
   "execution_count": 6,
   "id": "efaa032a",
   "metadata": {
    "scrolled": true
   },
   "outputs": [
    {
     "data": {
      "text/plain": [
       "Store                    int64\n",
       "Date            datetime64[ns]\n",
       "Temperature            float64\n",
       "Fuel_Price             float64\n",
       "MarkDown1              float64\n",
       "MarkDown2              float64\n",
       "MarkDown3              float64\n",
       "MarkDown4              float64\n",
       "MarkDown5              float64\n",
       "CPI                    float64\n",
       "Unemployment           float64\n",
       "IsHoliday                 bool\n",
       "dtype: object"
      ]
     },
     "execution_count": 6,
     "metadata": {},
     "output_type": "execute_result"
    }
   ],
   "source": [
    "features['Date']= pd.to_datetime(features['Date'], format=\"%d/%m/%Y\")\n",
    "features.dtypes"
   ]
  },
  {
   "cell_type": "code",
   "execution_count": 7,
   "id": "80496a31",
   "metadata": {},
   "outputs": [
    {
     "data": {
      "text/plain": [
       "2010-02-05    45\n",
       "2012-04-13    45\n",
       "2012-04-27    45\n",
       "2012-05-04    45\n",
       "2012-05-11    45\n",
       "              ..\n",
       "2011-04-15    45\n",
       "2011-04-22    45\n",
       "2011-04-29    45\n",
       "2011-05-06    45\n",
       "2013-07-26    45\n",
       "Name: Date, Length: 182, dtype: int64"
      ]
     },
     "execution_count": 7,
     "metadata": {},
     "output_type": "execute_result"
    }
   ],
   "source": [
    "features['Date'].value_counts()"
   ]
  },
  {
   "cell_type": "markdown",
   "id": "d719e07b",
   "metadata": {},
   "source": [
    "Sum of NA values in features by column. MarkDown data is only available after November 2011, and is not available for all stores all the time. Any missing value was marked with an NA and has been replaced with 0."
   ]
  },
  {
   "cell_type": "code",
   "execution_count": 8,
   "id": "320bc43f",
   "metadata": {
    "scrolled": false
   },
   "outputs": [
    {
     "name": "stdout",
     "output_type": "stream",
     "text": [
      "Store              0\n",
      "Date               0\n",
      "Temperature        0\n",
      "Fuel_Price         0\n",
      "MarkDown1       4158\n",
      "MarkDown2       5269\n",
      "MarkDown3       4577\n",
      "MarkDown4       4726\n",
      "MarkDown5       4140\n",
      "CPI              585\n",
      "Unemployment     585\n",
      "IsHoliday          0\n",
      "dtype: int64\n"
     ]
    }
   ],
   "source": [
    "print(features.isna().sum())"
   ]
  },
  {
   "cell_type": "code",
   "execution_count": 9,
   "id": "16c65c9d",
   "metadata": {},
   "outputs": [
    {
     "name": "stdout",
     "output_type": "stream",
     "text": [
      "      Store       Date  Temperature  Fuel_Price  MarkDown1  MarkDown2  \\\n",
      "0         1 2010-02-05        42.31       2.572       0.00       0.00   \n",
      "1         1 2010-02-12        38.51       2.548       0.00       0.00   \n",
      "2         1 2010-02-19        39.93       2.514       0.00       0.00   \n",
      "3         1 2010-02-26        46.63       2.561       0.00       0.00   \n",
      "4         1 2010-03-05        46.50       2.625       0.00       0.00   \n",
      "...     ...        ...          ...         ...        ...        ...   \n",
      "8185     45 2013-06-28        76.05       3.639    4842.29     975.03   \n",
      "8186     45 2013-07-05        77.50       3.614    9090.48    2268.58   \n",
      "8187     45 2013-07-12        79.37       3.614    3789.94    1827.31   \n",
      "8188     45 2013-07-19        82.84       3.737    2961.49    1047.07   \n",
      "8189     45 2013-07-26        76.06       3.804     212.02     851.73   \n",
      "\n",
      "      MarkDown3  MarkDown4  MarkDown5         CPI  Unemployment  IsHoliday  \n",
      "0          0.00       0.00       0.00  211.096358         8.106      False  \n",
      "1          0.00       0.00       0.00  211.242170         8.106       True  \n",
      "2          0.00       0.00       0.00  211.289143         8.106      False  \n",
      "3          0.00       0.00       0.00  211.319643         8.106      False  \n",
      "4          0.00       0.00       0.00  211.350143         8.106      False  \n",
      "...         ...        ...        ...         ...           ...        ...  \n",
      "8185       3.00    2449.97    3169.69         NaN           NaN      False  \n",
      "8186     582.74    5797.47    1514.93         NaN           NaN      False  \n",
      "8187      85.72     744.84    2150.36         NaN           NaN      False  \n",
      "8188     204.19     363.00    1059.46         NaN           NaN      False  \n",
      "8189       2.06      10.88    1864.57         NaN           NaN      False  \n",
      "\n",
      "[8190 rows x 12 columns]\n"
     ]
    }
   ],
   "source": [
    "features[[\"MarkDown1\",\"MarkDown2\", \"MarkDown3\", \"MarkDown4\", \"MarkDown5\"]] = features[[\"MarkDown1\",\"MarkDown2\", \"MarkDown3\", \"MarkDown4\", \"MarkDown5\"]].fillna(0)\n",
    "print(features)"
   ]
  },
  {
   "cell_type": "code",
   "execution_count": 10,
   "id": "002d1e26",
   "metadata": {
    "scrolled": true
   },
   "outputs": [
    {
     "name": "stdout",
     "output_type": "stream",
     "text": [
      "      Store       Date  Temperature  Fuel_Price  MarkDown1  MarkDown2  \\\n",
      "0         1 2010-02-05        42.31       2.572       0.00       0.00   \n",
      "1         1 2010-02-12        38.51       2.548       0.00       0.00   \n",
      "2         1 2010-02-19        39.93       2.514       0.00       0.00   \n",
      "3         1 2010-02-26        46.63       2.561       0.00       0.00   \n",
      "4         1 2010-03-05        46.50       2.625       0.00       0.00   \n",
      "...     ...        ...          ...         ...        ...        ...   \n",
      "8185     45 2013-06-28        76.05       3.639    4842.29     975.03   \n",
      "8186     45 2013-07-05        77.50       3.614    9090.48    2268.58   \n",
      "8187     45 2013-07-12        79.37       3.614    3789.94    1827.31   \n",
      "8188     45 2013-07-19        82.84       3.737    2961.49    1047.07   \n",
      "8189     45 2013-07-26        76.06       3.804     212.02     851.73   \n",
      "\n",
      "      MarkDown3  MarkDown4  MarkDown5         CPI  Unemployment  IsHoliday  \n",
      "0          0.00       0.00       0.00  211.096358      8.106000      False  \n",
      "1          0.00       0.00       0.00  211.242170      8.106000       True  \n",
      "2          0.00       0.00       0.00  211.289143      8.106000      False  \n",
      "3          0.00       0.00       0.00  211.319643      8.106000      False  \n",
      "4          0.00       0.00       0.00  211.350143      8.106000      False  \n",
      "...         ...        ...        ...         ...           ...        ...  \n",
      "8185       3.00    2449.97    3169.69  172.460809      7.826821      False  \n",
      "8186     582.74    5797.47    1514.93  172.460809      7.826821      False  \n",
      "8187      85.72     744.84    2150.36  172.460809      7.826821      False  \n",
      "8188     204.19     363.00    1059.46  172.460809      7.826821      False  \n",
      "8189       2.06      10.88    1864.57  172.460809      7.826821      False  \n",
      "\n",
      "[8190 rows x 12 columns]\n"
     ]
    },
    {
     "name": "stderr",
     "output_type": "stream",
     "text": [
      "C:\\Users\\mtoy\\AppData\\Local\\Temp\\ipykernel_1696\\808756144.py:1: FutureWarning: DataFrame.mean and DataFrame.median with numeric_only=None will include datetime64 and datetime64tz columns in a future version.\n",
      "  features[[\"CPI\",\"Unemployment\"]] = features[[\"CPI\",\"Unemployment\"]].fillna(features.mean())\n"
     ]
    }
   ],
   "source": [
    "features[[\"CPI\",\"Unemployment\"]] = features[[\"CPI\",\"Unemployment\"]].fillna(features.mean())\n",
    "print(features)"
   ]
  },
  {
   "cell_type": "code",
   "execution_count": 11,
   "id": "bd058f7c",
   "metadata": {
    "scrolled": true
   },
   "outputs": [
    {
     "data": {
      "image/png": "[encoded data removed]",
      "text/plain": [
       "<Figure size 720x720 with 12 Axes>"
      ]
     },
     "metadata": {
      "needs_background": "light"
     },
     "output_type": "display_data"
    }
   ],
   "source": [
    "features.hist(bins=25,figsize=(10,10))\n",
    "plt.show()"
   ]
  },
  {
   "cell_type": "code",
   "execution_count": 12,
   "id": "28f30858",
   "metadata": {},
   "outputs": [
    {
     "data": {
      "text/plain": [
       "<AxesSubplot:>"
      ]
     },
     "execution_count": 12,
     "metadata": {},
     "output_type": "execute_result"
    },
    {
     "data": {
      "image/png": "[encoded data removed]",
      "text/plain": [
       "<Figure size 1440x1440 with 2 Axes>"
      ]
     },
     "metadata": {
      "needs_background": "light"
     },
     "output_type": "display_data"
    }
   ],
   "source": [
    "plt.figure(figsize=(20,20))\n",
    "sns.heatmap(features.corr(),annot=True)"
   ]
  },
  {
   "cell_type": "code",
   "execution_count": 13,
   "id": "51445282",
   "metadata": {},
   "outputs": [
    {
     "data": {
      "text/html": [
       "<div>\n",
       "<style scoped>\n",
       "    .dataframe tbody tr th:only-of-type {\n",
       "        vertical-align: middle;\n",
       "    }\n",
       "\n",
       "    .dataframe tbody tr th {\n",
       "        vertical-align: top;\n",
       "    }\n",
       "\n",
       "    .dataframe thead th {\n",
       "        text-align: right;\n",
       "    }\n",
       "</style>\n",
       "<table border=\"1\" class=\"dataframe\">\n",
       "  <thead>\n",
       "    <tr style=\"text-align: right;\">\n",
       "      <th></th>\n",
       "      <th>Store</th>\n",
       "      <th>Dept</th>\n",
       "      <th>Date</th>\n",
       "      <th>Weekly_Sales</th>\n",
       "      <th>IsHoliday</th>\n",
       "    </tr>\n",
       "  </thead>\n",
       "  <tbody>\n",
       "    <tr>\n",
       "      <th>0</th>\n",
       "      <td>1</td>\n",
       "      <td>1</td>\n",
       "      <td>05/02/2010</td>\n",
       "      <td>24924.50</td>\n",
       "      <td>False</td>\n",
       "    </tr>\n",
       "    <tr>\n",
       "      <th>1</th>\n",
       "      <td>1</td>\n",
       "      <td>1</td>\n",
       "      <td>12/02/2010</td>\n",
       "      <td>46039.49</td>\n",
       "      <td>True</td>\n",
       "    </tr>\n",
       "    <tr>\n",
       "      <th>2</th>\n",
       "      <td>1</td>\n",
       "      <td>1</td>\n",
       "      <td>19/02/2010</td>\n",
       "      <td>41595.55</td>\n",
       "      <td>False</td>\n",
       "    </tr>\n",
       "    <tr>\n",
       "      <th>3</th>\n",
       "      <td>1</td>\n",
       "      <td>1</td>\n",
       "      <td>26/02/2010</td>\n",
       "      <td>19403.54</td>\n",
       "      <td>False</td>\n",
       "    </tr>\n",
       "    <tr>\n",
       "      <th>4</th>\n",
       "      <td>1</td>\n",
       "      <td>1</td>\n",
       "      <td>05/03/2010</td>\n",
       "      <td>21827.90</td>\n",
       "      <td>False</td>\n",
       "    </tr>\n",
       "    <tr>\n",
       "      <th>...</th>\n",
       "      <td>...</td>\n",
       "      <td>...</td>\n",
       "      <td>...</td>\n",
       "      <td>...</td>\n",
       "      <td>...</td>\n",
       "    </tr>\n",
       "    <tr>\n",
       "      <th>421565</th>\n",
       "      <td>45</td>\n",
       "      <td>98</td>\n",
       "      <td>28/09/2012</td>\n",
       "      <td>508.37</td>\n",
       "      <td>False</td>\n",
       "    </tr>\n",
       "    <tr>\n",
       "      <th>421566</th>\n",
       "      <td>45</td>\n",
       "      <td>98</td>\n",
       "      <td>05/10/2012</td>\n",
       "      <td>628.10</td>\n",
       "      <td>False</td>\n",
       "    </tr>\n",
       "    <tr>\n",
       "      <th>421567</th>\n",
       "      <td>45</td>\n",
       "      <td>98</td>\n",
       "      <td>12/10/2012</td>\n",
       "      <td>1061.02</td>\n",
       "      <td>False</td>\n",
       "    </tr>\n",
       "    <tr>\n",
       "      <th>421568</th>\n",
       "      <td>45</td>\n",
       "      <td>98</td>\n",
       "      <td>19/10/2012</td>\n",
       "      <td>760.01</td>\n",
       "      <td>False</td>\n",
       "    </tr>\n",
       "    <tr>\n",
       "      <th>421569</th>\n",
       "      <td>45</td>\n",
       "      <td>98</td>\n",
       "      <td>26/10/2012</td>\n",
       "      <td>1076.80</td>\n",
       "      <td>False</td>\n",
       "    </tr>\n",
       "  </tbody>\n",
       "</table>\n",
       "<p>421570 rows × 5 columns</p>\n",
       "</div>"
      ],
      "text/plain": [
       "        Store  Dept        Date  Weekly_Sales  IsHoliday\n",
       "0           1     1  05/02/2010      24924.50      False\n",
       "1           1     1  12/02/2010      46039.49       True\n",
       "2           1     1  19/02/2010      41595.55      False\n",
       "3           1     1  26/02/2010      19403.54      False\n",
       "4           1     1  05/03/2010      21827.90      False\n",
       "...       ...   ...         ...           ...        ...\n",
       "421565     45    98  28/09/2012        508.37      False\n",
       "421566     45    98  05/10/2012        628.10      False\n",
       "421567     45    98  12/10/2012       1061.02      False\n",
       "421568     45    98  19/10/2012        760.01      False\n",
       "421569     45    98  26/10/2012       1076.80      False\n",
       "\n",
       "[421570 rows x 5 columns]"
      ]
     },
     "execution_count": 13,
     "metadata": {},
     "output_type": "execute_result"
    }
   ],
   "source": [
    "sales"
   ]
  },
  {
   "cell_type": "code",
   "execution_count": 14,
   "id": "afa1e758",
   "metadata": {},
   "outputs": [
    {
     "data": {
      "text/plain": [
       "Store                    int64\n",
       "Dept                     int64\n",
       "Date            datetime64[ns]\n",
       "Weekly_Sales           float64\n",
       "IsHoliday                 bool\n",
       "dtype: object"
      ]
     },
     "execution_count": 14,
     "metadata": {},
     "output_type": "execute_result"
    }
   ],
   "source": [
    "sales['Date']= pd.to_datetime(sales['Date'], format=\"%d/%m/%Y\")\n",
    "sales.dtypes"
   ]
  },
  {
   "cell_type": "code",
   "execution_count": 15,
   "id": "a7e19ff3",
   "metadata": {
    "scrolled": true
   },
   "outputs": [
    {
     "name": "stdout",
     "output_type": "stream",
     "text": [
      "Store           0\n",
      "Dept            0\n",
      "Date            0\n",
      "Weekly_Sales    0\n",
      "IsHoliday       0\n",
      "dtype: int64\n"
     ]
    }
   ],
   "source": [
    "print(sales.isna().sum())"
   ]
  },
  {
   "cell_type": "code",
   "execution_count": 16,
   "id": "be881c84",
   "metadata": {
    "scrolled": false
   },
   "outputs": [
    {
     "data": {
      "text/plain": [
       "Store  Dept\n",
       "1      1       22513.322937\n",
       "       2       46102.090420\n",
       "       3       13150.478042\n",
       "       4       36964.154476\n",
       "       5       24257.941119\n",
       "                   ...     \n",
       "45     94       3690.272090\n",
       "       95      52896.166643\n",
       "       96          2.970000\n",
       "       97       6466.961888\n",
       "       98        561.239037\n",
       "Name: Weekly_Sales, Length: 3331, dtype: float64"
      ]
     },
     "execution_count": 16,
     "metadata": {},
     "output_type": "execute_result"
    }
   ],
   "source": [
    "sales_avg = sales.groupby(by=[\"Store\",\"Dept\"])[\"Weekly_Sales\"].mean()\n",
    "sales_avg"
   ]
  },
  {
   "cell_type": "code",
   "execution_count": 17,
   "id": "f5165704",
   "metadata": {
    "scrolled": true
   },
   "outputs": [
    {
     "data": {
      "image/png": "[encoded data removed]",
      "text/plain": [
       "<Figure size 432x288 with 1 Axes>"
      ]
     },
     "metadata": {
      "needs_background": "light"
     },
     "output_type": "display_data"
    }
   ],
   "source": [
    "x = sales[\"Date\"]\n",
    "y = sales[\"Weekly_Sales\"]\n",
    "plt.scatter(x, y, c =\"blue\", linewidths = .5)\n",
    "plt.xlabel(\"Date\")\n",
    "plt.ylabel(\"Weekly_Sales\")\n",
    "plt.show()"
   ]
  },
  {
   "cell_type": "code",
   "execution_count": 18,
   "id": "db6e2e35",
   "metadata": {
    "scrolled": false
   },
   "outputs": [
    {
     "data": {
      "text/plain": [
       "Date\n",
       "2010-11-26    693099.36\n",
       "2011-11-25    649770.18\n",
       "2010-12-24    406988.63\n",
       "2011-12-23    341308.00\n",
       "2010-02-05    293966.05\n",
       "2010-12-17    268789.69\n",
       "2011-08-26    241120.00\n",
       "2012-02-10    233140.32\n",
       "2011-12-09    227088.13\n",
       "2012-04-06    224917.94\n",
       "Name: Weekly_Sales, dtype: float64"
      ]
     },
     "execution_count": 18,
     "metadata": {},
     "output_type": "execute_result"
    }
   ],
   "source": [
    "sales_max = sales.groupby(by=\"Date\")[\"Weekly_Sales\"].max()\n",
    "sales_max_head = sales_max.sort_values(ascending = False).head(10)\n",
    "sales_max_head"
   ]
  },
  {
   "cell_type": "code",
   "execution_count": 19,
   "id": "d5853385",
   "metadata": {},
   "outputs": [
    {
     "data": {
      "image/png": "[encoded data removed]",
      "text/plain": [
       "<Figure size 432x288 with 1 Axes>"
      ]
     },
     "metadata": {
      "needs_background": "light"
     },
     "output_type": "display_data"
    }
   ],
   "source": [
    "x = [\"2010-11-26\", \"2011-11-25\", \"2010-12-24\", \"2011-12-23\", \"2010-02-05\", \"2010-12-17\", \"2011-08-26\", \"2012-02-10\", \"2011-12-09\", \"2012-04-06\"]\n",
    "y = [693099.36, 649770.18, 406988.63, 341308.00, 293966.05, 268789.69, 241120.00, 233140.32, 227088.13, 224917.94]\n",
    "plt.scatter(x, y, c =\"blue\")\n",
    "plt.xlabel(\"Date\")\n",
    "plt.ylabel(\"Weekly_Sales\")\n",
    "plt.show()"
   ]
  },
  {
   "cell_type": "code",
   "execution_count": 20,
   "id": "aa7eb85d",
   "metadata": {},
   "outputs": [
    {
     "data": {
      "text/html": [
       "<div>\n",
       "<style scoped>\n",
       "    .dataframe tbody tr th:only-of-type {\n",
       "        vertical-align: middle;\n",
       "    }\n",
       "\n",
       "    .dataframe tbody tr th {\n",
       "        vertical-align: top;\n",
       "    }\n",
       "\n",
       "    .dataframe thead th {\n",
       "        text-align: right;\n",
       "    }\n",
       "</style>\n",
       "<table border=\"1\" class=\"dataframe\">\n",
       "  <thead>\n",
       "    <tr style=\"text-align: right;\">\n",
       "      <th></th>\n",
       "      <th>Store</th>\n",
       "      <th>Type</th>\n",
       "      <th>Size</th>\n",
       "    </tr>\n",
       "  </thead>\n",
       "  <tbody>\n",
       "    <tr>\n",
       "      <th>0</th>\n",
       "      <td>1</td>\n",
       "      <td>A</td>\n",
       "      <td>151315</td>\n",
       "    </tr>\n",
       "    <tr>\n",
       "      <th>1</th>\n",
       "      <td>2</td>\n",
       "      <td>A</td>\n",
       "      <td>202307</td>\n",
       "    </tr>\n",
       "    <tr>\n",
       "      <th>2</th>\n",
       "      <td>3</td>\n",
       "      <td>B</td>\n",
       "      <td>37392</td>\n",
       "    </tr>\n",
       "    <tr>\n",
       "      <th>3</th>\n",
       "      <td>4</td>\n",
       "      <td>A</td>\n",
       "      <td>205863</td>\n",
       "    </tr>\n",
       "    <tr>\n",
       "      <th>4</th>\n",
       "      <td>5</td>\n",
       "      <td>B</td>\n",
       "      <td>34875</td>\n",
       "    </tr>\n",
       "  </tbody>\n",
       "</table>\n",
       "</div>"
      ],
      "text/plain": [
       "   Store Type    Size\n",
       "0      1    A  151315\n",
       "1      2    A  202307\n",
       "2      3    B   37392\n",
       "3      4    A  205863\n",
       "4      5    B   34875"
      ]
     },
     "execution_count": 20,
     "metadata": {},
     "output_type": "execute_result"
    }
   ],
   "source": [
    "stores.head()"
   ]
  },
  {
   "cell_type": "code",
   "execution_count": 21,
   "id": "6a38b7d9",
   "metadata": {},
   "outputs": [
    {
     "name": "stdout",
     "output_type": "stream",
     "text": [
      "Store    0\n",
      "Type     0\n",
      "Size     0\n",
      "dtype: int64\n"
     ]
    }
   ],
   "source": [
    "print(stores.isna().sum())"
   ]
  },
  {
   "cell_type": "code",
   "execution_count": 22,
   "id": "8a56d04b",
   "metadata": {},
   "outputs": [
    {
     "name": "stderr",
     "output_type": "stream",
     "text": [
      "C:\\Users\\mtoy\\anaconda3\\lib\\site-packages\\seaborn\\_decorators.py:36: FutureWarning: Pass the following variable as a keyword arg: x. From version 0.12, the only valid positional argument will be `data`, and passing other arguments without an explicit keyword will result in an error or misinterpretation.\n",
      "  warnings.warn(\n"
     ]
    },
    {
     "data": {
      "text/plain": [
       "A    22\n",
       "B    17\n",
       "C     6\n",
       "Name: Type, dtype: int64"
      ]
     },
     "execution_count": 22,
     "metadata": {},
     "output_type": "execute_result"
    },
    {
     "data": {
      "image/png": "[encoded data removed]",
      "text/plain": [
       "<Figure size 720x720 with 1 Axes>"
      ]
     },
     "metadata": {
      "needs_background": "light"
     },
     "output_type": "display_data"
    }
   ],
   "source": [
    "store_type = plt.figure(figsize=(10,10))\n",
    "sns.countplot(stores[\"Type\"])\n",
    "stores[\"Type\"].value_counts()"
   ]
  },
  {
   "cell_type": "code",
   "execution_count": 23,
   "id": "be260124",
   "metadata": {},
   "outputs": [
    {
     "data": {
      "image/png": "[encoded data removed]",
      "text/plain": [
       "<Figure size 432x288 with 1 Axes>"
      ]
     },
     "metadata": {
      "needs_background": "light"
     },
     "output_type": "display_data"
    }
   ],
   "source": [
    "store_size = plt.figure()\n",
    "ax = store_size.add_axes([0,0,1,1])\n",
    "store = stores[\"Store\"]\n",
    "size = stores[\"Size\"]\n",
    "ax.bar(store,size)\n",
    "plt.show()"
   ]
  },
  {
   "cell_type": "markdown",
   "id": "93a61a33",
   "metadata": {},
   "source": [
    "# Unsupervised ML Sales Prediction"
   ]
  },
  {
   "cell_type": "code",
   "execution_count": 24,
   "id": "3b967d57",
   "metadata": {
    "scrolled": true
   },
   "outputs": [
    {
     "data": {
      "text/html": [
       "<div>\n",
       "<style scoped>\n",
       "    .dataframe tbody tr th:only-of-type {\n",
       "        vertical-align: middle;\n",
       "    }\n",
       "\n",
       "    .dataframe tbody tr th {\n",
       "        vertical-align: top;\n",
       "    }\n",
       "\n",
       "    .dataframe thead th {\n",
       "        text-align: right;\n",
       "    }\n",
       "</style>\n",
       "<table border=\"1\" class=\"dataframe\">\n",
       "  <thead>\n",
       "    <tr style=\"text-align: right;\">\n",
       "      <th></th>\n",
       "      <th>Store</th>\n",
       "      <th>Date</th>\n",
       "      <th>Temperature</th>\n",
       "      <th>Fuel_Price</th>\n",
       "      <th>MarkDown1</th>\n",
       "      <th>MarkDown2</th>\n",
       "      <th>MarkDown3</th>\n",
       "      <th>MarkDown4</th>\n",
       "      <th>MarkDown5</th>\n",
       "      <th>CPI</th>\n",
       "      <th>Unemployment</th>\n",
       "      <th>IsHoliday</th>\n",
       "      <th>Type</th>\n",
       "      <th>Size</th>\n",
       "      <th>Dept</th>\n",
       "      <th>Weekly_Sales</th>\n",
       "    </tr>\n",
       "  </thead>\n",
       "  <tbody>\n",
       "    <tr>\n",
       "      <th>0</th>\n",
       "      <td>1</td>\n",
       "      <td>2010-02-05</td>\n",
       "      <td>42.31</td>\n",
       "      <td>2.572</td>\n",
       "      <td>0.00</td>\n",
       "      <td>0.00</td>\n",
       "      <td>0.0</td>\n",
       "      <td>0.00</td>\n",
       "      <td>0.00</td>\n",
       "      <td>211.096358</td>\n",
       "      <td>8.106</td>\n",
       "      <td>False</td>\n",
       "      <td>A</td>\n",
       "      <td>151315</td>\n",
       "      <td>1</td>\n",
       "      <td>24924.50</td>\n",
       "    </tr>\n",
       "    <tr>\n",
       "      <th>1</th>\n",
       "      <td>1</td>\n",
       "      <td>2010-02-05</td>\n",
       "      <td>42.31</td>\n",
       "      <td>2.572</td>\n",
       "      <td>0.00</td>\n",
       "      <td>0.00</td>\n",
       "      <td>0.0</td>\n",
       "      <td>0.00</td>\n",
       "      <td>0.00</td>\n",
       "      <td>211.096358</td>\n",
       "      <td>8.106</td>\n",
       "      <td>False</td>\n",
       "      <td>A</td>\n",
       "      <td>151315</td>\n",
       "      <td>2</td>\n",
       "      <td>50605.27</td>\n",
       "    </tr>\n",
       "    <tr>\n",
       "      <th>2</th>\n",
       "      <td>1</td>\n",
       "      <td>2010-02-05</td>\n",
       "      <td>42.31</td>\n",
       "      <td>2.572</td>\n",
       "      <td>0.00</td>\n",
       "      <td>0.00</td>\n",
       "      <td>0.0</td>\n",
       "      <td>0.00</td>\n",
       "      <td>0.00</td>\n",
       "      <td>211.096358</td>\n",
       "      <td>8.106</td>\n",
       "      <td>False</td>\n",
       "      <td>A</td>\n",
       "      <td>151315</td>\n",
       "      <td>3</td>\n",
       "      <td>13740.12</td>\n",
       "    </tr>\n",
       "    <tr>\n",
       "      <th>3</th>\n",
       "      <td>1</td>\n",
       "      <td>2010-02-05</td>\n",
       "      <td>42.31</td>\n",
       "      <td>2.572</td>\n",
       "      <td>0.00</td>\n",
       "      <td>0.00</td>\n",
       "      <td>0.0</td>\n",
       "      <td>0.00</td>\n",
       "      <td>0.00</td>\n",
       "      <td>211.096358</td>\n",
       "      <td>8.106</td>\n",
       "      <td>False</td>\n",
       "      <td>A</td>\n",
       "      <td>151315</td>\n",
       "      <td>4</td>\n",
       "      <td>39954.04</td>\n",
       "    </tr>\n",
       "    <tr>\n",
       "      <th>4</th>\n",
       "      <td>1</td>\n",
       "      <td>2010-02-05</td>\n",
       "      <td>42.31</td>\n",
       "      <td>2.572</td>\n",
       "      <td>0.00</td>\n",
       "      <td>0.00</td>\n",
       "      <td>0.0</td>\n",
       "      <td>0.00</td>\n",
       "      <td>0.00</td>\n",
       "      <td>211.096358</td>\n",
       "      <td>8.106</td>\n",
       "      <td>False</td>\n",
       "      <td>A</td>\n",
       "      <td>151315</td>\n",
       "      <td>5</td>\n",
       "      <td>32229.38</td>\n",
       "    </tr>\n",
       "    <tr>\n",
       "      <th>...</th>\n",
       "      <td>...</td>\n",
       "      <td>...</td>\n",
       "      <td>...</td>\n",
       "      <td>...</td>\n",
       "      <td>...</td>\n",
       "      <td>...</td>\n",
       "      <td>...</td>\n",
       "      <td>...</td>\n",
       "      <td>...</td>\n",
       "      <td>...</td>\n",
       "      <td>...</td>\n",
       "      <td>...</td>\n",
       "      <td>...</td>\n",
       "      <td>...</td>\n",
       "      <td>...</td>\n",
       "      <td>...</td>\n",
       "    </tr>\n",
       "    <tr>\n",
       "      <th>421565</th>\n",
       "      <td>45</td>\n",
       "      <td>2012-10-26</td>\n",
       "      <td>58.85</td>\n",
       "      <td>3.882</td>\n",
       "      <td>4018.91</td>\n",
       "      <td>58.08</td>\n",
       "      <td>100.0</td>\n",
       "      <td>211.94</td>\n",
       "      <td>858.33</td>\n",
       "      <td>192.308899</td>\n",
       "      <td>8.667</td>\n",
       "      <td>False</td>\n",
       "      <td>B</td>\n",
       "      <td>118221</td>\n",
       "      <td>93</td>\n",
       "      <td>2487.80</td>\n",
       "    </tr>\n",
       "    <tr>\n",
       "      <th>421566</th>\n",
       "      <td>45</td>\n",
       "      <td>2012-10-26</td>\n",
       "      <td>58.85</td>\n",
       "      <td>3.882</td>\n",
       "      <td>4018.91</td>\n",
       "      <td>58.08</td>\n",
       "      <td>100.0</td>\n",
       "      <td>211.94</td>\n",
       "      <td>858.33</td>\n",
       "      <td>192.308899</td>\n",
       "      <td>8.667</td>\n",
       "      <td>False</td>\n",
       "      <td>B</td>\n",
       "      <td>118221</td>\n",
       "      <td>94</td>\n",
       "      <td>5203.31</td>\n",
       "    </tr>\n",
       "    <tr>\n",
       "      <th>421567</th>\n",
       "      <td>45</td>\n",
       "      <td>2012-10-26</td>\n",
       "      <td>58.85</td>\n",
       "      <td>3.882</td>\n",
       "      <td>4018.91</td>\n",
       "      <td>58.08</td>\n",
       "      <td>100.0</td>\n",
       "      <td>211.94</td>\n",
       "      <td>858.33</td>\n",
       "      <td>192.308899</td>\n",
       "      <td>8.667</td>\n",
       "      <td>False</td>\n",
       "      <td>B</td>\n",
       "      <td>118221</td>\n",
       "      <td>95</td>\n",
       "      <td>56017.47</td>\n",
       "    </tr>\n",
       "    <tr>\n",
       "      <th>421568</th>\n",
       "      <td>45</td>\n",
       "      <td>2012-10-26</td>\n",
       "      <td>58.85</td>\n",
       "      <td>3.882</td>\n",
       "      <td>4018.91</td>\n",
       "      <td>58.08</td>\n",
       "      <td>100.0</td>\n",
       "      <td>211.94</td>\n",
       "      <td>858.33</td>\n",
       "      <td>192.308899</td>\n",
       "      <td>8.667</td>\n",
       "      <td>False</td>\n",
       "      <td>B</td>\n",
       "      <td>118221</td>\n",
       "      <td>97</td>\n",
       "      <td>6817.48</td>\n",
       "    </tr>\n",
       "    <tr>\n",
       "      <th>421569</th>\n",
       "      <td>45</td>\n",
       "      <td>2012-10-26</td>\n",
       "      <td>58.85</td>\n",
       "      <td>3.882</td>\n",
       "      <td>4018.91</td>\n",
       "      <td>58.08</td>\n",
       "      <td>100.0</td>\n",
       "      <td>211.94</td>\n",
       "      <td>858.33</td>\n",
       "      <td>192.308899</td>\n",
       "      <td>8.667</td>\n",
       "      <td>False</td>\n",
       "      <td>B</td>\n",
       "      <td>118221</td>\n",
       "      <td>98</td>\n",
       "      <td>1076.80</td>\n",
       "    </tr>\n",
       "  </tbody>\n",
       "</table>\n",
       "<p>421570 rows × 16 columns</p>\n",
       "</div>"
      ],
      "text/plain": [
       "        Store       Date  Temperature  Fuel_Price  MarkDown1  MarkDown2  \\\n",
       "0           1 2010-02-05        42.31       2.572       0.00       0.00   \n",
       "1           1 2010-02-05        42.31       2.572       0.00       0.00   \n",
       "2           1 2010-02-05        42.31       2.572       0.00       0.00   \n",
       "3           1 2010-02-05        42.31       2.572       0.00       0.00   \n",
       "4           1 2010-02-05        42.31       2.572       0.00       0.00   \n",
       "...       ...        ...          ...         ...        ...        ...   \n",
       "421565     45 2012-10-26        58.85       3.882    4018.91      58.08   \n",
       "421566     45 2012-10-26        58.85       3.882    4018.91      58.08   \n",
       "421567     45 2012-10-26        58.85       3.882    4018.91      58.08   \n",
       "421568     45 2012-10-26        58.85       3.882    4018.91      58.08   \n",
       "421569     45 2012-10-26        58.85       3.882    4018.91      58.08   \n",
       "\n",
       "        MarkDown3  MarkDown4  MarkDown5         CPI  Unemployment  IsHoliday  \\\n",
       "0             0.0       0.00       0.00  211.096358         8.106      False   \n",
       "1             0.0       0.00       0.00  211.096358         8.106      False   \n",
       "2             0.0       0.00       0.00  211.096358         8.106      False   \n",
       "3             0.0       0.00       0.00  211.096358         8.106      False   \n",
       "4             0.0       0.00       0.00  211.096358         8.106      False   \n",
       "...           ...        ...        ...         ...           ...        ...   \n",
       "421565      100.0     211.94     858.33  192.308899         8.667      False   \n",
       "421566      100.0     211.94     858.33  192.308899         8.667      False   \n",
       "421567      100.0     211.94     858.33  192.308899         8.667      False   \n",
       "421568      100.0     211.94     858.33  192.308899         8.667      False   \n",
       "421569      100.0     211.94     858.33  192.308899         8.667      False   \n",
       "\n",
       "       Type    Size  Dept  Weekly_Sales  \n",
       "0         A  151315     1      24924.50  \n",
       "1         A  151315     2      50605.27  \n",
       "2         A  151315     3      13740.12  \n",
       "3         A  151315     4      39954.04  \n",
       "4         A  151315     5      32229.38  \n",
       "...     ...     ...   ...           ...  \n",
       "421565    B  118221    93       2487.80  \n",
       "421566    B  118221    94       5203.31  \n",
       "421567    B  118221    95      56017.47  \n",
       "421568    B  118221    97       6817.48  \n",
       "421569    B  118221    98       1076.80  \n",
       "\n",
       "[421570 rows x 16 columns]"
      ]
     },
     "execution_count": 24,
     "metadata": {},
     "output_type": "execute_result"
    }
   ],
   "source": [
    "all_features = features.merge(stores, on = 'Store')\n",
    "all_features = all_features.merge(sales, on = ['Store','Date','IsHoliday'])\n",
    "all_features"
   ]
  },
  {
   "cell_type": "code",
   "execution_count": 25,
   "id": "cea17f1a",
   "metadata": {},
   "outputs": [],
   "source": [
    "all_features[\"Date\"] = pd.to_datetime(all_features[\"Date\"])"
   ]
  },
  {
   "cell_type": "code",
   "execution_count": 26,
   "id": "581b25c0",
   "metadata": {},
   "outputs": [],
   "source": [
    "all_features[\"Date\"] = all_features[\"Date\"].dt.strftime('%Y-%m')"
   ]
  },
  {
   "cell_type": "code",
   "execution_count": 27,
   "id": "af5d7f2d",
   "metadata": {},
   "outputs": [
    {
     "data": {
      "text/html": [
       "<div>\n",
       "<style scoped>\n",
       "    .dataframe tbody tr th:only-of-type {\n",
       "        vertical-align: middle;\n",
       "    }\n",
       "\n",
       "    .dataframe tbody tr th {\n",
       "        vertical-align: top;\n",
       "    }\n",
       "\n",
       "    .dataframe thead th {\n",
       "        text-align: right;\n",
       "    }\n",
       "</style>\n",
       "<table border=\"1\" class=\"dataframe\">\n",
       "  <thead>\n",
       "    <tr style=\"text-align: right;\">\n",
       "      <th></th>\n",
       "      <th>Store</th>\n",
       "      <th>Date</th>\n",
       "      <th>Temperature</th>\n",
       "      <th>Fuel_Price</th>\n",
       "      <th>MarkDown1</th>\n",
       "      <th>MarkDown2</th>\n",
       "      <th>MarkDown3</th>\n",
       "      <th>MarkDown4</th>\n",
       "      <th>MarkDown5</th>\n",
       "      <th>CPI</th>\n",
       "      <th>Unemployment</th>\n",
       "      <th>IsHoliday</th>\n",
       "      <th>Type</th>\n",
       "      <th>Size</th>\n",
       "      <th>Dept</th>\n",
       "      <th>Weekly_Sales</th>\n",
       "    </tr>\n",
       "  </thead>\n",
       "  <tbody>\n",
       "    <tr>\n",
       "      <th>0</th>\n",
       "      <td>1</td>\n",
       "      <td>2010-02</td>\n",
       "      <td>42.31</td>\n",
       "      <td>2.572</td>\n",
       "      <td>0.0</td>\n",
       "      <td>0.0</td>\n",
       "      <td>0.0</td>\n",
       "      <td>0.0</td>\n",
       "      <td>0.0</td>\n",
       "      <td>211.096358</td>\n",
       "      <td>8.106</td>\n",
       "      <td>False</td>\n",
       "      <td>A</td>\n",
       "      <td>151315</td>\n",
       "      <td>1</td>\n",
       "      <td>24924.50</td>\n",
       "    </tr>\n",
       "    <tr>\n",
       "      <th>237300</th>\n",
       "      <td>25</td>\n",
       "      <td>2010-02</td>\n",
       "      <td>24.16</td>\n",
       "      <td>2.745</td>\n",
       "      <td>0.0</td>\n",
       "      <td>0.0</td>\n",
       "      <td>0.0</td>\n",
       "      <td>0.0</td>\n",
       "      <td>0.0</td>\n",
       "      <td>204.432100</td>\n",
       "      <td>8.187</td>\n",
       "      <td>False</td>\n",
       "      <td>B</td>\n",
       "      <td>128107</td>\n",
       "      <td>97</td>\n",
       "      <td>2526.21</td>\n",
       "    </tr>\n",
       "    <tr>\n",
       "      <th>237299</th>\n",
       "      <td>25</td>\n",
       "      <td>2010-02</td>\n",
       "      <td>24.16</td>\n",
       "      <td>2.745</td>\n",
       "      <td>0.0</td>\n",
       "      <td>0.0</td>\n",
       "      <td>0.0</td>\n",
       "      <td>0.0</td>\n",
       "      <td>0.0</td>\n",
       "      <td>204.432100</td>\n",
       "      <td>8.187</td>\n",
       "      <td>False</td>\n",
       "      <td>B</td>\n",
       "      <td>128107</td>\n",
       "      <td>95</td>\n",
       "      <td>39593.42</td>\n",
       "    </tr>\n",
       "    <tr>\n",
       "      <th>237298</th>\n",
       "      <td>25</td>\n",
       "      <td>2010-02</td>\n",
       "      <td>24.16</td>\n",
       "      <td>2.745</td>\n",
       "      <td>0.0</td>\n",
       "      <td>0.0</td>\n",
       "      <td>0.0</td>\n",
       "      <td>0.0</td>\n",
       "      <td>0.0</td>\n",
       "      <td>204.432100</td>\n",
       "      <td>8.187</td>\n",
       "      <td>False</td>\n",
       "      <td>B</td>\n",
       "      <td>128107</td>\n",
       "      <td>94</td>\n",
       "      <td>2310.02</td>\n",
       "    </tr>\n",
       "    <tr>\n",
       "      <th>237297</th>\n",
       "      <td>25</td>\n",
       "      <td>2010-02</td>\n",
       "      <td>24.16</td>\n",
       "      <td>2.745</td>\n",
       "      <td>0.0</td>\n",
       "      <td>0.0</td>\n",
       "      <td>0.0</td>\n",
       "      <td>0.0</td>\n",
       "      <td>0.0</td>\n",
       "      <td>204.432100</td>\n",
       "      <td>8.187</td>\n",
       "      <td>False</td>\n",
       "      <td>B</td>\n",
       "      <td>128107</td>\n",
       "      <td>93</td>\n",
       "      <td>765.04</td>\n",
       "    </tr>\n",
       "  </tbody>\n",
       "</table>\n",
       "</div>"
      ],
      "text/plain": [
       "        Store     Date  Temperature  Fuel_Price  MarkDown1  MarkDown2  \\\n",
       "0           1  2010-02        42.31       2.572        0.0        0.0   \n",
       "237300     25  2010-02        24.16       2.745        0.0        0.0   \n",
       "237299     25  2010-02        24.16       2.745        0.0        0.0   \n",
       "237298     25  2010-02        24.16       2.745        0.0        0.0   \n",
       "237297     25  2010-02        24.16       2.745        0.0        0.0   \n",
       "\n",
       "        MarkDown3  MarkDown4  MarkDown5         CPI  Unemployment  IsHoliday  \\\n",
       "0             0.0        0.0        0.0  211.096358         8.106      False   \n",
       "237300        0.0        0.0        0.0  204.432100         8.187      False   \n",
       "237299        0.0        0.0        0.0  204.432100         8.187      False   \n",
       "237298        0.0        0.0        0.0  204.432100         8.187      False   \n",
       "237297        0.0        0.0        0.0  204.432100         8.187      False   \n",
       "\n",
       "       Type    Size  Dept  Weekly_Sales  \n",
       "0         A  151315     1      24924.50  \n",
       "237300    B  128107    97       2526.21  \n",
       "237299    B  128107    95      39593.42  \n",
       "237298    B  128107    94       2310.02  \n",
       "237297    B  128107    93        765.04  "
      ]
     },
     "execution_count": 27,
     "metadata": {},
     "output_type": "execute_result"
    }
   ],
   "source": [
    "all_features = all_features.sort_values(by = [\"Date\"])\n",
    "all_features.head()"
   ]
  },
  {
   "cell_type": "code",
   "execution_count": 28,
   "id": "966acfd2",
   "metadata": {},
   "outputs": [
    {
     "name": "stdout",
     "output_type": "stream",
     "text": [
      "<class 'pandas.core.frame.DataFrame'>\n",
      "Int64Index: 421570 entries, 0 to 421569\n",
      "Data columns (total 16 columns):\n",
      " #   Column        Non-Null Count   Dtype  \n",
      "---  ------        --------------   -----  \n",
      " 0   Store         421570 non-null  int64  \n",
      " 1   Date          421570 non-null  object \n",
      " 2   Temperature   421570 non-null  float64\n",
      " 3   Fuel_Price    421570 non-null  float64\n",
      " 4   MarkDown1     421570 non-null  float64\n",
      " 5   MarkDown2     421570 non-null  float64\n",
      " 6   MarkDown3     421570 non-null  float64\n",
      " 7   MarkDown4     421570 non-null  float64\n",
      " 8   MarkDown5     421570 non-null  float64\n",
      " 9   CPI           421570 non-null  float64\n",
      " 10  Unemployment  421570 non-null  float64\n",
      " 11  IsHoliday     421570 non-null  bool   \n",
      " 12  Type          421570 non-null  object \n",
      " 13  Size          421570 non-null  int64  \n",
      " 14  Dept          421570 non-null  int64  \n",
      " 15  Weekly_Sales  421570 non-null  float64\n",
      "dtypes: bool(1), float64(10), int64(3), object(2)\n",
      "memory usage: 51.9+ MB\n"
     ]
    }
   ],
   "source": [
    "all_features.info()"
   ]
  },
  {
   "cell_type": "code",
   "execution_count": 29,
   "id": "961fd185",
   "metadata": {},
   "outputs": [
    {
     "data": {
      "image/png": "[encoded data removed]",
      "text/plain": [
       "<Figure size 720x720 with 1 Axes>"
      ]
     },
     "metadata": {
      "needs_background": "light"
     },
     "output_type": "display_data"
    }
   ],
   "source": [
    "plot_no = 1\n",
    "_ = plt.subplots(figsize = (10,10))\n",
    "_ = plt.xticks(rotation = 60)\n",
    "_ = sns.lineplot(data = all_features, x = \"Date\",y = \"Fuel_Price\")\n",
    "_ = plt.title('Change in fuel price over 3 years', fontsize=20)\n",
    "plt.savefig(str(plot_no)+'_plot.png')\n",
    "plot_no +=1"
   ]
  },
  {
   "cell_type": "code",
   "execution_count": 30,
   "id": "31f1a8d9",
   "metadata": {},
   "outputs": [
    {
     "data": {
      "image/png": "[encoded data removed]",
      "text/plain": [
       "<Figure size 432x288 with 1 Axes>"
      ]
     },
     "metadata": {
      "needs_background": "light"
     },
     "output_type": "display_data"
    }
   ],
   "source": [
    "x = all_features[\"Temperature\"]\n",
    "y = all_features[\"Weekly_Sales\"]\n",
    "plt.scatter(x, y, c =\"blue\")\n",
    "plt.xlabel(\"Temperature\")\n",
    "plt.ylabel(\"Weekly_Sales\")\n",
    "plt.show()"
   ]
  },
  {
   "cell_type": "markdown",
   "id": "a00d7365",
   "metadata": {},
   "source": [
    "Decided not to use GMM\n",
    "n_clusters = 3\n",
    "gmm_model = GaussianMixture(n_components=n_clusters)\n",
    "gmm_model.fit(X)"
   ]
  },
  {
   "cell_type": "markdown",
   "id": "7d361b8c",
   "metadata": {},
   "source": [
    "cluster_labels = gmm_model.predict(X)\n",
    "X = pd.DataFrame(X)\n",
    "X['cluster'] = cluster_labels"
   ]
  },
  {
   "cell_type": "markdown",
   "id": "7fd69530",
   "metadata": {},
   "source": [
    "for k in range(0,n_clusters):\n",
    "    data = X[X[\"cluster\"]==k]\n",
    "    plt.scatter(all_features[\"Unemployment\"],all_features[\"CPI\"])\n",
    "plt.title(\"Guassian Mixture Model\")    \n",
    "plt.ylabel(\"CPI\")\n",
    "plt.xlabel(\"Unemployment\")\n",
    "plt.show()"
   ]
  },
  {
   "cell_type": "code",
   "execution_count": 62,
   "id": "771e4cd8",
   "metadata": {},
   "outputs": [],
   "source": [
    "spectral_cluster_model= SpectralClustering(\n",
    "    n_clusters=5, \n",
    "    random_state=25, \n",
    "    n_neighbors=8, \n",
    "    affinity='nearest_neighbors'\n",
    ")"
   ]
  },
  {
   "cell_type": "code",
   "execution_count": 63,
   "id": "391e2606",
   "metadata": {},
   "outputs": [
    {
     "name": "stderr",
     "output_type": "stream",
     "text": [
      "C:\\Users\\mtoy\\anaconda3\\lib\\site-packages\\sklearn\\manifold\\_spectral_embedding.py:260: UserWarning: Graph is not fully connected, spectral embedding may not work as expected.\n",
      "  warnings.warn(\n"
     ]
    },
    {
     "data": {
      "text/plain": [
       "[Text(0.5, 1.0, 'Spectral Clustering')]"
      ]
     },
     "execution_count": 63,
     "metadata": {},
     "output_type": "execute_result"
    },
    {
     "data": {
      "image/png": "[encoded data removed]",
      "text/plain": [
       "<Figure size 432x288 with 1 Axes>"
      ]
     },
     "metadata": {
      "needs_background": "light"
     },
     "output_type": "display_data"
    }
   ],
   "source": [
    "X['cluster'] = spectral_cluster_model.fit_predict(all_features[[\"Unemployment\", \"CPI\"]])\n",
    "fig, ax = plt.subplots()\n",
    "sns.scatterplot(x=all_features[\"Unemployment\"], y=all_features[\"CPI\"], data=X, hue=\"cluster\", ax=ax)\n",
    "ax.set(title='Spectral Clustering')"
   ]
  },
  {
   "cell_type": "code",
   "execution_count": null,
   "id": "0ae103c4",
   "metadata": {},
   "outputs": [],
   "source": []
  }
 ],
 "metadata": {
  "kernelspec": {
   "display_name": "Python 3 (ipykernel)",
   "language": "python",
   "name": "python3"
  },
  "language_info": {
   "codemirror_mode": {
    "name": "ipython",
    "version": 3
   },
   "file_extension": ".py",
   "mimetype": "text/x-python",
   "name": "python",
   "nbconvert_exporter": "python",
   "pygments_lexer": "ipython3",
   "version": "3.9.12"
  }
 },
 "nbformat": 4,
 "nbformat_minor": 5
}
